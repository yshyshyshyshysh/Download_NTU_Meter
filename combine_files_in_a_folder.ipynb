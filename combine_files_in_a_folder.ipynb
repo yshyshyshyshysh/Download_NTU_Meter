{
 "cells": [
  {
   "cell_type": "code",
   "execution_count": 4,
   "metadata": {},
   "outputs": [
    {
     "name": "stdout",
     "output_type": "stream",
     "text": [
      "(17064, 90)\n",
      "done\n"
     ]
    }
   ],
   "source": [
    "import os\n",
    "import pandas as pd\n",
    "\n",
    "# Get the current working directory\n",
    "folder_path = os.getcwd()\n",
    "\n",
    "# Get the file names of all Excel files in order\n",
    "def sort_key(filename):\n",
    "    return int(filename.split('_')[-1].split('.')[0])\n",
    "excel_files = sorted([file for file in os.listdir(folder_path) if file.endswith('.xlsx')], key=sort_key)\n",
    "\n",
    "# Merge into a dataFrame\n",
    "merged_data = pd.DataFrame()\n",
    "for file in excel_files:\n",
    "    file_path = os.path.join(folder_path, file)\n",
    "    df = pd.read_excel(file_path)\n",
    "    df = df.drop(columns=['Unnamed: 0'], errors='ignore') # Delete the column named 'Unnamed: 0'\n",
    "    # df = df.iloc[:, 1:] # Delete the first column\n",
    "    merged_data = pd.concat([merged_data, df], axis=1)\n",
    "\n",
    "# Move the 'Datetime' column to the beginning of the DataFrame\n",
    "datetime_column = merged_data['Datetime']\n",
    "merged_data = merged_data.drop(columns=['Datetime'])\n",
    "merged_data.insert(0, 'Datetime', datetime_column)\n",
    "\n",
    "# Save the file\n",
    "output_file = \"merged_excel.xlsx\"\n",
    "merged_data.to_excel(output_file, index=False)\n",
    "\n",
    "print(merged_data.shape)\n",
    "print('done')\n"
   ]
  }
 ],
 "metadata": {
  "kernelspec": {
   "display_name": "Python 3",
   "language": "python",
   "name": "python3"
  },
  "language_info": {
   "codemirror_mode": {
    "name": "ipython",
    "version": 3
   },
   "file_extension": ".py",
   "mimetype": "text/x-python",
   "name": "python",
   "nbconvert_exporter": "python",
   "pygments_lexer": "ipython3",
   "version": "3.11.8"
  }
 },
 "nbformat": 4,
 "nbformat_minor": 2
}
